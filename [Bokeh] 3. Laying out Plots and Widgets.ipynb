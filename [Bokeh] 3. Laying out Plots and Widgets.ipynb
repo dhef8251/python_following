{
 "cells": [
  {
   "cell_type": "markdown",
   "metadata": {
    "toc": true
   },
   "source": [
    "<h1>Table of Contents<span class=\"tocSkip\"></span></h1>\n",
    "<div class=\"toc\"><ul class=\"toc-item\"><li><span><a href=\"#Columns\" data-toc-modified-id=\"Columns-1\"><span class=\"toc-item-num\">1&nbsp;&nbsp;</span>Columns</a></span></li><li><span><a href=\"#Rows\" data-toc-modified-id=\"Rows-2\"><span class=\"toc-item-num\">2&nbsp;&nbsp;</span>Rows</a></span></li><li><span><a href=\"#Widgets\" data-toc-modified-id=\"Widgets-3\"><span class=\"toc-item-num\">3&nbsp;&nbsp;</span>Widgets</a></span></li><li><span><a href=\"#Grids-Layout-for-Plots\" data-toc-modified-id=\"Grids-Layout-for-Plots-4\"><span class=\"toc-item-num\">4&nbsp;&nbsp;</span>Grids Layout for Plots</a></span></li><li><span><a href=\"#General-Grid-Layout\" data-toc-modified-id=\"General-Grid-Layout-5\"><span class=\"toc-item-num\">5&nbsp;&nbsp;</span>General Grid Layout</a></span></li></ul></div>"
   ]
  },
  {
   "cell_type": "markdown",
   "metadata": {},
   "source": [
    "# Columns"
   ]
  },
  {
   "cell_type": "code",
   "execution_count": 2,
   "metadata": {},
   "outputs": [],
   "source": [
    "from bokeh.layouts import column\n",
    "from bokeh.plotting import figure, show, output_file\n",
    "\n",
    "output_file('_bokeh_34.html')\n",
    "\n",
    "x = list(range(11))\n",
    "y0 = x\n",
    "y1 = [10 - i for i in x]\n",
    "y2 = [abs(i - 5) for i in x]\n",
    "\n",
    "# create a new plot\n",
    "s1 = figure(plot_width=250, plot_height=250, title=None)\n",
    "s1.circle(x, y0, size=10, color='navy', alpha=0.5)\n",
    "\n",
    "# create another one\n",
    "s2 = figure(plot_width=250, plot_height=250, title=None)\n",
    "s2.triangle(x, y1, size=10, color='firebrick', alpha=0.5)\n",
    "\n",
    "# create and another\n",
    "s3 = figure(plot_width=250, plot_height=250, title=None)\n",
    "s3.square(x, y2, size=10, color='olive', alpha=0.5)\n",
    "\n",
    "# put the results in a column and show\n",
    "show(column(s1, s2, s3))"
   ]
  },
  {
   "cell_type": "markdown",
   "metadata": {},
   "source": [
    "![](_bokeh_34.PNG)"
   ]
  },
  {
   "cell_type": "markdown",
   "metadata": {},
   "source": [
    "# Rows"
   ]
  },
  {
   "cell_type": "code",
   "execution_count": 3,
   "metadata": {},
   "outputs": [],
   "source": [
    "from bokeh.layouts import row\n",
    "from bokeh.plotting import figure, show, output_file\n",
    "\n",
    "output_file('_bokeh_35.html')\n",
    "\n",
    "x = list(range(11))\n",
    "y0 = x\n",
    "y1 = [10 - i for i in x]\n",
    "y2 = [abs(i - 5) for i in x]\n",
    "\n",
    "# create a new plot\n",
    "s1 = figure(plot_width=250, plot_height=250, title=None)\n",
    "s1.circle(x, y0, size=10, color='navy', alpha=0.5)\n",
    "\n",
    "# create another one\n",
    "s2 = figure(plot_width=250, plot_height=250, title=None)\n",
    "s2.triangle(x, y1, size=10, color='firebrick', alpha=0.5)\n",
    "\n",
    "# create and another\n",
    "s3 = figure(plot_width=250, plot_height=250, title=None)\n",
    "s3.square(x, y2, size=10, color='olive', alpha=0.5)\n",
    "\n",
    "# put the results in a column and show\n",
    "show(row(s1, s2, s3))"
   ]
  },
  {
   "cell_type": "markdown",
   "metadata": {},
   "source": [
    "![](_bokeh_35.PNG)"
   ]
  },
  {
   "cell_type": "markdown",
   "metadata": {},
   "source": [
    "# Widgets"
   ]
  },
  {
   "cell_type": "code",
   "execution_count": 6,
   "metadata": {},
   "outputs": [],
   "source": [
    "from bokeh.plotting import figure, show, output_file\n",
    "from bokeh.layouts import widgetbox\n",
    "from bokeh.models.widgets import Button, RadioButtonGroup, Select, Slider\n",
    "\n",
    "output_file('_bokeh_36.html')\n",
    "\n",
    "# create some widgets\n",
    "slider = Slider(start=0, end=10, value=1, step=.1, title='Slider')\n",
    "button_group = RadioButtonGroup(labels=['Option 1', 'Option 2', 'Option 3'], active=0)\n",
    "select = Select(title='Option:', value='foo', options=['foo', 'bar', 'baz', 'quuz'])\n",
    "button_1 = Button(label='Button 1')\n",
    "button_2 = Button(label='Button 2')\n",
    "\n",
    "# put the results in a row\n",
    "show(widgetbox(button_1, slider, button_group, select, button_2, width=300))"
   ]
  },
  {
   "cell_type": "markdown",
   "metadata": {},
   "source": [
    "![](_bokeh_36.PNG)"
   ]
  },
  {
   "cell_type": "markdown",
   "metadata": {},
   "source": [
    "# Grids Layout for Plots"
   ]
  },
  {
   "cell_type": "code",
   "execution_count": 7,
   "metadata": {},
   "outputs": [],
   "source": [
    "from bokeh.plotting import figure, show, output_file\n",
    "from bokeh.layouts import gridplot\n",
    "from bokeh.palettes import Viridis3\n",
    "\n",
    "output_file('_bokeh_37.html')\n",
    "\n",
    "x = list(range(11))\n",
    "y0 = x\n",
    "y1 = [10 - i for i in x]\n",
    "y2 = [abs(i - 5) for i in x]\n",
    "\n",
    "# create a new plot\n",
    "p1 = figure(plot_width=250, plot_height=250, title=None)\n",
    "p1.circle(x, y0, size=10, color=Viridis3[0])\n",
    "\n",
    "# create another one\n",
    "p2 = figure(plot_width=250, plot_height=250, title=None)\n",
    "p2.triangle(x, y1, size=10, color=Viridis3[1])\n",
    "\n",
    "# create and another\n",
    "p3 = figure(plot_width=250, plot_height=250, title=None)\n",
    "p3.square(x, y2, size=10, color=Viridis3[2])\n",
    "\n",
    "# make a grid\n",
    "grid = gridplot([[p1, p2], [None, p3]])\n",
    "\n",
    "# show the results\n",
    "show(grid)"
   ]
  },
  {
   "cell_type": "markdown",
   "metadata": {},
   "source": [
    "![](_bokeh_37.PNG)"
   ]
  },
  {
   "cell_type": "markdown",
   "metadata": {},
   "source": [
    "# General Grid Layout"
   ]
  },
  {
   "cell_type": "code",
   "execution_count": 9,
   "metadata": {},
   "outputs": [],
   "source": [
    "import numpy as np\n",
    "\n",
    "from bokeh.layouts import layout\n",
    "from bokeh.models import CustomJS, Slider, ColumnDataSource, WidgetBox\n",
    "from bokeh.plotting import figure, show, output_file\n",
    "\n",
    "output_file('_bokeh_38.html')\n",
    "\n",
    "tools = 'pan'\n",
    "\n",
    "def bollinger():\n",
    "    # Define Bollinger Bands\n",
    "    upperband = np.random.randint(100, 150+1, size=100)\n",
    "    lowerband = upperband - 100\n",
    "    x_data = np.arange(1, 101)\n",
    "    \n",
    "    # Bollinger shading glyph:\n",
    "    band_x = np.append(x_data, x_data[::-1])\n",
    "    band_y = np.append(lowerband, upperband[::-1])\n",
    "    \n",
    "    p = figure(x_axis_type='datetime', tools=tools)\n",
    "    p.patch(band_x, band_y, color='#7570B3', fill_alpha=0.2)\n",
    "    \n",
    "    p.title.text = 'Bollinger Bands'\n",
    "    p.title_location = 'left'\n",
    "    p.title.align = 'left'\n",
    "    p.plot_height = 600\n",
    "    p.plot_width = 800\n",
    "    p.grid.grid_line_alpha = 0.4\n",
    "    return [p]\n",
    "\n",
    "def slider():\n",
    "    x = np.linspace(0, 10, 100)\n",
    "    y = np.sin(x)\n",
    "    \n",
    "    source = ColumnDataSource(data=dict(x=x, y=y))\n",
    "    \n",
    "    plot = figure(y_range=(-10, 10), tools='', toolbar_location=None, title='Sliders example')\n",
    "    plot.line('x', 'y', source=source, line_width=3, line_alpha=0.6)\n",
    "    \n",
    "    callback = CustomJS(args=dict(source=source), code='''\n",
    "        var data = source.data;\n",
    "        var A = amp.value;\n",
    "        var k = freq.value;\n",
    "        var phi = phase.value;\n",
    "        var B = offset.value;\n",
    "        var x = data['x']\n",
    "        var y = data['y']\n",
    "        for (var i = 0; i < x.length; i++) {\n",
    "            y[i] = B + A*Math.sin(k*x[i]+phi);\n",
    "        }\n",
    "        source.change.emit();\n",
    "    ''')\n",
    "    \n",
    "    amp_slider = Slider(start=0.1, end=10, value=1, step=.1, title='Amplitude', callback=callback, callback_policy='mouseup')\n",
    "    callback.args['amp'] = amp_slider\n",
    "    \n",
    "    freq_slider = Slider(start=0.1, end=10, value=1, step=.1, title='Frequency', callback=callback)\n",
    "    callback.args['freq'] = freq_slider\n",
    "    \n",
    "    phase_slider = Slider(start=0, end=6.4, value=0, step=.1, title='Phase', callback=callback)\n",
    "    callback.args['phase'] = phase_slider\n",
    "    \n",
    "    offset_slider = Slider(start=-5, end=5, value=0, step=.1, title='Offset', callback=callback)\n",
    "    callback.args['offset'] = offset_slider\n",
    "    \n",
    "    widgets = WidgetBox(amp_slider, freq_slider, phase_slider, offset_slider)\n",
    "    return [widgets, plot]\n",
    "\n",
    "def linked_panning():\n",
    "    N = 100\n",
    "    x = np.linspace(0, 4 * np.pi, N)\n",
    "    y1 = np.sin(x)\n",
    "    y2 = np.cos(x)\n",
    "    y3 = np.sin(x) + np.cos(x)\n",
    "    \n",
    "    s1 = figure(tools=tools)\n",
    "    s1.circle(x, y1, color='navy', size=8, alpha=0.5)\n",
    "    s2 = figure(tools=tools, x_range=s1.x_range, y_range=s1.y_range)\n",
    "    s2.circle(x, y2, color='firebrick', size=8, alpha=0.5)\n",
    "    s3 = figure(tools='pan, box_select', x_range=s1.x_range)\n",
    "    s3.circle(x, y3, color='olive', size=8, alpha=0.5)\n",
    "    return [s1, s2, s3]\n",
    "\n",
    "l = layout([\n",
    "    bollinger(),\n",
    "    slider(),\n",
    "    linked_panning(),\n",
    "], sizing_mode='stretch_both')\n",
    "\n",
    "show(l)"
   ]
  },
  {
   "cell_type": "markdown",
   "metadata": {},
   "source": [
    "![](_bokeh_38.PNG)"
   ]
  },
  {
   "cell_type": "code",
   "execution_count": null,
   "metadata": {},
   "outputs": [],
   "source": []
  }
 ],
 "metadata": {
  "kernelspec": {
   "display_name": "Python 3",
   "language": "python",
   "name": "python3"
  },
  "language_info": {
   "codemirror_mode": {
    "name": "ipython",
    "version": 3
   },
   "file_extension": ".py",
   "mimetype": "text/x-python",
   "name": "python",
   "nbconvert_exporter": "python",
   "pygments_lexer": "ipython3",
   "version": "3.7.1"
  },
  "toc": {
   "base_numbering": 1,
   "nav_menu": {},
   "number_sections": true,
   "sideBar": true,
   "skip_h1_title": false,
   "title_cell": "Table of Contents",
   "title_sidebar": "Contents",
   "toc_cell": true,
   "toc_position": {},
   "toc_section_display": true,
   "toc_window_display": false
  }
 },
 "nbformat": 4,
 "nbformat_minor": 2
}
